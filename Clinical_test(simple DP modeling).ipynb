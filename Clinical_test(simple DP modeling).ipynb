{
  "nbformat": 4,
  "nbformat_minor": 0,
  "metadata": {
    "colab": {
      "name": "Untitled",
      "provenance": [],
      "collapsed_sections": [],
      "authorship_tag": "ABX9TyMG2hcZyaDjglkiqlsOU0+a",
      "include_colab_link": true
    },
    "kernelspec": {
      "name": "python3",
      "display_name": "Python 3"
    }
  },
  "cells": [
    {
      "cell_type": "markdown",
      "metadata": {
        "id": "view-in-github",
        "colab_type": "text"
      },
      "source": [
        "<a href=\"https://colab.research.google.com/github/Unessam/Keras-exercises/blob/main/Clinical_test(simple%20DP%20modeling).ipynb\" target=\"_parent\"><img src=\"https://colab.research.google.com/assets/colab-badge.svg\" alt=\"Open In Colab\"/></a>"
      ]
    },
    {
      "cell_type": "code",
      "metadata": {
        "id": "P9gMb-eofJ7H"
      },
      "source": [
        "import numpy as np\n",
        "import pandas as pd\n",
        "import matplotlib.pyplot as plt\n",
        "%matplotlib inline\n",
        "import seaborn as sns\n",
        "from random import randint\n",
        "from sklearn.utils import shuffle\n",
        "from sklearn.preprocessing import MinMaxScaler"
      ],
      "execution_count": 7,
      "outputs": []
    },
    {
      "cell_type": "code",
      "metadata": {
        "id": "Kd063019f1Hf"
      },
      "source": [
        "train_labels=[]\n",
        "train_samples=[]"
      ],
      "execution_count": 74,
      "outputs": []
    },
    {
      "cell_type": "code",
      "metadata": {
        "id": "g8wsTJr_gEZc"
      },
      "source": [
        "for i in range(50):\n",
        "  random_younger=randint(13, 64)\n",
        "  train_samples.append(random_younger)\n",
        "  train_labels.append(1)\n",
        "\n",
        "  random_older=randint(65, 100)\n",
        "  train_samples.append(random_older)\n",
        "  train_labels.append(0)\n",
        "\n",
        "for i in range(1000):\n",
        "  random_younger=randint(13, 64)\n",
        "  train_samples.append(random_younger)\n",
        "  train_labels.append(0)\n",
        "\n",
        "  random_older=randint(65, 100)\n",
        "  train_samples.append(random_older)\n",
        "  train_labels.append(1)\n"
      ],
      "execution_count": 75,
      "outputs": []
    },
    {
      "cell_type": "code",
      "metadata": {
        "id": "y50EEittkH0N",
        "outputId": "11795111-451c-45a1-a6f4-24bbd7ccd5f9",
        "colab": {
          "base_uri": "https://localhost:8080/",
          "height": 320
        }
      },
      "source": [
        "sns.distplot(train_samples)\n",
        "plt.show()"
      ],
      "execution_count": 76,
      "outputs": [
        {
          "output_type": "stream",
          "text": [
            "/usr/local/lib/python3.6/dist-packages/seaborn/distributions.py:2551: FutureWarning: `distplot` is a deprecated function and will be removed in a future version. Please adapt your code to use either `displot` (a figure-level function with similar flexibility) or `histplot` (an axes-level function for histograms).\n",
            "  warnings.warn(msg, FutureWarning)\n"
          ],
          "name": "stderr"
        },
        {
          "output_type": "display_data",
          "data": {
            "image/png": "[encoded data removed]",
            "text/plain": [
              "<Figure size 432x288 with 1 Axes>"
            ]
          },
          "metadata": {
            "tags": [],
            "needs_background": "light"
          }
        }
      ]
    },
    {
      "cell_type": "code",
      "metadata": {
        "id": "yxC7RcVLkl7U",
        "outputId": "85f079b9-c00f-40a2-b819-99efd160df5c",
        "colab": {
          "base_uri": "https://localhost:8080/",
          "height": 265
        }
      },
      "source": [
        "plt.bar(train_labels, len(train_labels))\n",
        "plt.show()"
      ],
      "execution_count": 19,
      "outputs": [
        {
          "output_type": "display_data",
          "data": {
            "image/png": "[encoded data removed]",
            "text/plain": [
              "<Figure size 432x288 with 1 Axes>"
            ]
          },
          "metadata": {
            "tags": [],
            "needs_background": "light"
          }
        }
      ]
    },
    {
      "cell_type": "code",
      "metadata": {
        "id": "htTFcoXcCZ1s"
      },
      "source": [
        "train_samples=np.array(train_samples)\n",
        "train_labels=np.array(train_labels)\n",
        "train_samples, train_labels= shuffle(train_samples, train_labels)"
      ],
      "execution_count": 77,
      "outputs": []
    },
    {
      "cell_type": "code",
      "metadata": {
        "id": "bVDpd6irDbAr"
      },
      "source": [
        "scaler=MinMaxScaler(feature_range=(0, 1))\n",
        "scaled_train_samples=scaler.fit_transform(train_samples.reshape(-1, 1))"
      ],
      "execution_count": 78,
      "outputs": []
    },
    {
      "cell_type": "code",
      "metadata": {
        "id": "VllEhJn0Eqhn",
        "outputId": "ede42542-122e-4e0b-8b43-851f69494689",
        "colab": {
          "base_uri": "https://localhost:8080/",
          "height": 321
        }
      },
      "source": [
        "sns.distplot(scaled_train_samples)\n",
        "plt.show()"
      ],
      "execution_count": 79,
      "outputs": [
        {
          "output_type": "stream",
          "text": [
            "/usr/local/lib/python3.6/dist-packages/seaborn/distributions.py:2551: FutureWarning: `distplot` is a deprecated function and will be removed in a future version. Please adapt your code to use either `displot` (a figure-level function with similar flexibility) or `histplot` (an axes-level function for histograms).\n",
            "  warnings.warn(msg, FutureWarning)\n"
          ],
          "name": "stderr"
        },
        {
          "output_type": "display_data",
          "data": {
            "image/png": "[encoded data removed]",
            "text/plain": [
              "<Figure size 432x288 with 1 Axes>"
            ]
          },
          "metadata": {
            "tags": [],
            "needs_background": "light"
          }
        }
      ]
    },
    {
      "cell_type": "code",
      "metadata": {
        "id": "o4ee2uYuFUjE"
      },
      "source": [
        "import tensorflow as tf\n",
        "from tensorflow import keras\n",
        "from tensorflow.keras.models import Sequential\n",
        "from tensorflow.keras.layers import Dense, Activation\n",
        "from tensorflow.keras.optimizers import Adam\n",
        "from tensorflow.keras.metrics import categorical_crossentropy"
      ],
      "execution_count": 33,
      "outputs": []
    },
    {
      "cell_type": "code",
      "metadata": {
        "id": "5TAInIu-JrDF",
        "outputId": "42494b79-3c33-4037-f809-0d9a220c8a2e",
        "colab": {
          "base_uri": "https://localhost:8080/",
          "height": 34
        }
      },
      "source": [
        "scaled_train_samples.shape"
      ],
      "execution_count": 37,
      "outputs": [
        {
          "output_type": "execute_result",
          "data": {
            "text/plain": [
              "(4301, 1)"
            ]
          },
          "metadata": {
            "tags": []
          },
          "execution_count": 37
        }
      ]
    },
    {
      "cell_type": "code",
      "metadata": {
        "id": "mBhrLhTFILIn"
      },
      "source": [
        "model=Sequential()\n",
        "model.add(Dense(units=16, input_shape=(1, ), activation='relu'))\n",
        "model.add(Dense(units=32, activation='relu'))\n",
        "model.add(Dense(units=2, activation='softmax'))"
      ],
      "execution_count": 80,
      "outputs": []
    },
    {
      "cell_type": "code",
      "metadata": {
        "id": "6bB_2SobKowP",
        "outputId": "89492f65-f311-4177-d81b-f9306c21db32",
        "colab": {
          "base_uri": "https://localhost:8080/",
          "height": 255
        }
      },
      "source": [
        "model.summary()"
      ],
      "execution_count": 42,
      "outputs": [
        {
          "output_type": "stream",
          "text": [
            "Model: \"sequential\"\n",
            "_________________________________________________________________\n",
            "Layer (type)                 Output Shape              Param #   \n",
            "=================================================================\n",
            "dense (Dense)                (None, 16)                32        \n",
            "_________________________________________________________________\n",
            "dense_1 (Dense)              (None, 32)                544       \n",
            "_________________________________________________________________\n",
            "dense_2 (Dense)              (None, 2)                 66        \n",
            "=================================================================\n",
            "Total params: 642\n",
            "Trainable params: 642\n",
            "Non-trainable params: 0\n",
            "_________________________________________________________________\n"
          ],
          "name": "stdout"
        }
      ]
    },
    {
      "cell_type": "code",
      "metadata": {
        "id": "TKIq5adgK0bf"
      },
      "source": [
        "model.compile(optimizer=Adam(learning_rate=0.0001), loss='sparse_categorical_crossentropy', metrics=['accuracy'])"
      ],
      "execution_count": 81,
      "outputs": []
    },
    {
      "cell_type": "code",
      "metadata": {
        "id": "7plZh26QNf_y",
        "outputId": "2215a679-3589-4348-8125-0e0e35b782e3",
        "colab": {
          "base_uri": "https://localhost:8080/",
          "height": 1000
        }
      },
      "source": [
        "model.fit(x=scaled_train_samples, y=train_labels, validation_split=0.1, batch_size=10, epochs=30, shuffle=True, verbose=2)"
      ],
      "execution_count": 82,
      "outputs": [
        {
          "output_type": "stream",
          "text": [
            "Epoch 1/30\n",
            "189/189 - 0s - loss: 0.6783 - accuracy: 0.5370 - val_loss: 0.6635 - val_accuracy: 0.6667\n",
            "Epoch 2/30\n",
            "189/189 - 0s - loss: 0.6609 - accuracy: 0.6503 - val_loss: 0.6408 - val_accuracy: 0.7381\n",
            "Epoch 3/30\n",
            "189/189 - 0s - loss: 0.6398 - accuracy: 0.7011 - val_loss: 0.6160 - val_accuracy: 0.7667\n",
            "Epoch 4/30\n",
            "189/189 - 0s - loss: 0.6154 - accuracy: 0.7534 - val_loss: 0.5868 - val_accuracy: 0.7905\n",
            "Epoch 5/30\n",
            "189/189 - 0s - loss: 0.5881 - accuracy: 0.7672 - val_loss: 0.5566 - val_accuracy: 0.8048\n",
            "Epoch 6/30\n",
            "189/189 - 0s - loss: 0.5580 - accuracy: 0.8037 - val_loss: 0.5235 - val_accuracy: 0.8286\n",
            "Epoch 7/30\n",
            "189/189 - 0s - loss: 0.5267 - accuracy: 0.8286 - val_loss: 0.4929 - val_accuracy: 0.8667\n",
            "Epoch 8/30\n",
            "189/189 - 0s - loss: 0.4957 - accuracy: 0.8450 - val_loss: 0.4621 - val_accuracy: 0.8857\n",
            "Epoch 9/30\n",
            "189/189 - 0s - loss: 0.4657 - accuracy: 0.8593 - val_loss: 0.4353 - val_accuracy: 0.9048\n",
            "Epoch 10/30\n",
            "189/189 - 0s - loss: 0.4375 - accuracy: 0.8804 - val_loss: 0.4078 - val_accuracy: 0.9048\n",
            "Epoch 11/30\n",
            "189/189 - 0s - loss: 0.4117 - accuracy: 0.8905 - val_loss: 0.3853 - val_accuracy: 0.9143\n",
            "Epoch 12/30\n",
            "189/189 - 0s - loss: 0.3891 - accuracy: 0.8974 - val_loss: 0.3655 - val_accuracy: 0.9286\n",
            "Epoch 13/30\n",
            "189/189 - 0s - loss: 0.3690 - accuracy: 0.9053 - val_loss: 0.3456 - val_accuracy: 0.9286\n",
            "Epoch 14/30\n",
            "189/189 - 0s - loss: 0.3511 - accuracy: 0.9122 - val_loss: 0.3314 - val_accuracy: 0.9286\n",
            "Epoch 15/30\n",
            "189/189 - 0s - loss: 0.3359 - accuracy: 0.9169 - val_loss: 0.3169 - val_accuracy: 0.9286\n",
            "Epoch 16/30\n",
            "189/189 - 0s - loss: 0.3236 - accuracy: 0.9217 - val_loss: 0.3063 - val_accuracy: 0.9429\n",
            "Epoch 17/30\n",
            "189/189 - 0s - loss: 0.3132 - accuracy: 0.9222 - val_loss: 0.2984 - val_accuracy: 0.9429\n",
            "Epoch 18/30\n",
            "189/189 - 0s - loss: 0.3046 - accuracy: 0.9312 - val_loss: 0.2901 - val_accuracy: 0.9476\n",
            "Epoch 19/30\n",
            "189/189 - 0s - loss: 0.2973 - accuracy: 0.9302 - val_loss: 0.2866 - val_accuracy: 0.9619\n",
            "Epoch 20/30\n",
            "189/189 - 0s - loss: 0.2913 - accuracy: 0.9386 - val_loss: 0.2799 - val_accuracy: 0.9476\n",
            "Epoch 21/30\n",
            "189/189 - 0s - loss: 0.2863 - accuracy: 0.9370 - val_loss: 0.2753 - val_accuracy: 0.9619\n",
            "Epoch 22/30\n",
            "189/189 - 0s - loss: 0.2821 - accuracy: 0.9365 - val_loss: 0.2709 - val_accuracy: 0.9619\n",
            "Epoch 23/30\n",
            "189/189 - 0s - loss: 0.2784 - accuracy: 0.9386 - val_loss: 0.2683 - val_accuracy: 0.9619\n",
            "Epoch 24/30\n",
            "189/189 - 0s - loss: 0.2754 - accuracy: 0.9402 - val_loss: 0.2639 - val_accuracy: 0.9619\n",
            "Epoch 25/30\n",
            "189/189 - 0s - loss: 0.2725 - accuracy: 0.9402 - val_loss: 0.2627 - val_accuracy: 0.9619\n",
            "Epoch 26/30\n",
            "189/189 - 0s - loss: 0.2700 - accuracy: 0.9386 - val_loss: 0.2615 - val_accuracy: 0.9571\n",
            "Epoch 27/30\n",
            "189/189 - 0s - loss: 0.2680 - accuracy: 0.9429 - val_loss: 0.2573 - val_accuracy: 0.9619\n",
            "Epoch 28/30\n",
            "189/189 - 0s - loss: 0.2659 - accuracy: 0.9392 - val_loss: 0.2560 - val_accuracy: 0.9619\n",
            "Epoch 29/30\n",
            "189/189 - 0s - loss: 0.2642 - accuracy: 0.9397 - val_loss: 0.2548 - val_accuracy: 0.9571\n",
            "Epoch 30/30\n",
            "189/189 - 0s - loss: 0.2625 - accuracy: 0.9413 - val_loss: 0.2550 - val_accuracy: 0.9571\n"
          ],
          "name": "stdout"
        },
        {
          "output_type": "execute_result",
          "data": {
            "text/plain": [
              "<tensorflow.python.keras.callbacks.History at 0x7f460695c4e0>"
            ]
          },
          "metadata": {
            "tags": []
          },
          "execution_count": 82
        }
      ]
    },
    {
      "cell_type": "code",
      "metadata": {
        "id": "-H2hD1mradWO"
      },
      "source": [
        "test_labels=[]\n",
        "test_samples=[]\n",
        "for i in range(10):\n",
        "  random_younger=randint(13, 64)\n",
        "  test_samples.append(random_younger)\n",
        "  test_labels.append(1)\n",
        "\n",
        "  random_older=randint(65, 100)\n",
        "  test_samples.append(random_older)\n",
        "  test_labels.append(0)\n",
        "for i in range(200):\n",
        "  random_younger=randint(13, 64)\n",
        "  test_samples.append(random_younger)\n",
        "  test_labels.append(0)\n",
        "\n",
        "  random_older=randint(65, 100)\n",
        "  test_samples.append(random_older)\n",
        "  test_labels.append(1)"
      ],
      "execution_count": 108,
      "outputs": []
    },
    {
      "cell_type": "code",
      "metadata": {
        "id": "1rxFZbXdb_na",
        "outputId": "186ec7a3-6b11-4d3e-e2fd-8a496c89013e",
        "colab": {
          "base_uri": "https://localhost:8080/",
          "height": 319
        }
      },
      "source": [
        "sns.distplot(test_samples)\n",
        "plt.show()"
      ],
      "execution_count": 109,
      "outputs": [
        {
          "output_type": "stream",
          "text": [
            "/usr/local/lib/python3.6/dist-packages/seaborn/distributions.py:2551: FutureWarning: `distplot` is a deprecated function and will be removed in a future version. Please adapt your code to use either `displot` (a figure-level function with similar flexibility) or `histplot` (an axes-level function for histograms).\n",
            "  warnings.warn(msg, FutureWarning)\n"
          ],
          "name": "stderr"
        },
        {
          "output_type": "display_data",
          "data": {
            "image/png": "[encoded data removed]",
            "text/plain": [
              "<Figure size 432x288 with 1 Axes>"
            ]
          },
          "metadata": {
            "tags": [],
            "needs_background": "light"
          }
        }
      ]
    },
    {
      "cell_type": "code",
      "metadata": {
        "id": "o1_iFUjicZG9"
      },
      "source": [
        "test_samples=np.array(test_samples)\n",
        "test_labels=np.array(test_labels)\n",
        "test_samples, test_labels=shuffle(test_samples, test_labels)"
      ],
      "execution_count": 110,
      "outputs": []
    },
    {
      "cell_type": "code",
      "metadata": {
        "id": "YU4gdxyGcIVQ"
      },
      "source": [
        "scaled_test_samples=scaler.fit_transform(test_samples.reshape(-1, 1))"
      ],
      "execution_count": 111,
      "outputs": []
    },
    {
      "cell_type": "code",
      "metadata": {
        "id": "HrLSbMneeQa7",
        "outputId": "f2f58693-8b11-4045-a4a2-35e7e8a9a430",
        "colab": {
          "base_uri": "https://localhost:8080/",
          "height": 319
        }
      },
      "source": [
        "sns.distplot(scaled_test_samples)\n",
        "plt.show()"
      ],
      "execution_count": 112,
      "outputs": [
        {
          "output_type": "stream",
          "text": [
            "/usr/local/lib/python3.6/dist-packages/seaborn/distributions.py:2551: FutureWarning: `distplot` is a deprecated function and will be removed in a future version. Please adapt your code to use either `displot` (a figure-level function with similar flexibility) or `histplot` (an axes-level function for histograms).\n",
            "  warnings.warn(msg, FutureWarning)\n"
          ],
          "name": "stderr"
        },
        {
          "output_type": "display_data",
          "data": {
            "image/png": "[encoded data removed]",
            "text/plain": [
              "<Figure size 432x288 with 1 Axes>"
            ]
          },
          "metadata": {
            "tags": [],
            "needs_background": "light"
          }
        }
      ]
    },
    {
      "cell_type": "code",
      "metadata": {
        "id": "sIYjGZNUe2cR"
      },
      "source": [
        "prediction=model.predict(x=scaled_test_samples, batch_size=10, verbose=0)"
      ],
      "execution_count": 113,
      "outputs": []
    },
    {
      "cell_type": "code",
      "metadata": {
        "id": "5Alq66Jag6kc",
        "outputId": "6373f079-41c0-4e86-9f6f-b8c387d97773",
        "colab": {
          "base_uri": "https://localhost:8080/",
          "height": 34
        }
      },
      "source": [
        "prediction.shape"
      ],
      "execution_count": 114,
      "outputs": [
        {
          "output_type": "execute_result",
          "data": {
            "text/plain": [
              "(420, 2)"
            ]
          },
          "metadata": {
            "tags": []
          },
          "execution_count": 114
        }
      ]
    },
    {
      "cell_type": "code",
      "metadata": {
        "id": "uzQH4B9vfIp5"
      },
      "source": [
        "#np.argmax(a,axis= 2 or -1) returns (500,) with values from 0 to 1\n",
        "#argmax returns the position of the largest value. max returns the largest value.\n",
        "rounded_predictions=np.argmax(prediction, axis=-1)"
      ],
      "execution_count": 115,
      "outputs": []
    },
    {
      "cell_type": "code",
      "metadata": {
        "id": "lgAiQmqGirIt",
        "outputId": "82739bd8-5040-4f8b-be3f-b58e06d670ff",
        "colab": {
          "base_uri": "https://localhost:8080/",
          "height": 357
        }
      },
      "source": [
        "rounded_predictions"
      ],
      "execution_count": 116,
      "outputs": [
        {
          "output_type": "execute_result",
          "data": {
            "text/plain": [
              "array([1, 1, 1, 0, 0, 0, 1, 0, 1, 1, 1, 0, 0, 0, 0, 1, 1, 0, 0, 0, 1, 0,\n",
              "       0, 0, 1, 1, 0, 0, 0, 1, 0, 1, 0, 0, 1, 0, 1, 0, 1, 0, 0, 0, 0, 1,\n",
              "       0, 0, 1, 0, 0, 0, 1, 1, 0, 1, 1, 1, 1, 0, 0, 1, 1, 1, 0, 0, 1, 1,\n",
              "       1, 0, 0, 0, 1, 1, 0, 0, 0, 1, 0, 1, 1, 0, 0, 0, 1, 1, 0, 0, 1, 1,\n",
              "       1, 0, 0, 1, 0, 0, 0, 1, 1, 1, 1, 1, 1, 0, 0, 0, 0, 1, 0, 1, 0, 1,\n",
              "       1, 1, 1, 0, 1, 0, 1, 1, 0, 1, 1, 1, 1, 0, 0, 1, 0, 1, 1, 0, 1, 1,\n",
              "       0, 0, 1, 0, 0, 1, 0, 1, 1, 1, 0, 1, 0, 0, 0, 1, 0, 0, 1, 0, 0, 1,\n",
              "       0, 0, 1, 1, 1, 1, 0, 0, 0, 1, 1, 1, 1, 0, 1, 1, 0, 1, 0, 0, 0, 1,\n",
              "       0, 1, 0, 1, 0, 1, 1, 0, 0, 1, 0, 1, 1, 1, 0, 1, 1, 1, 1, 1, 1, 0,\n",
              "       0, 1, 1, 1, 0, 0, 0, 0, 1, 0, 1, 0, 1, 1, 0, 0, 0, 1, 0, 0, 0, 0,\n",
              "       0, 0, 0, 0, 1, 0, 1, 0, 1, 0, 1, 0, 0, 1, 1, 1, 0, 0, 0, 0, 1, 0,\n",
              "       0, 0, 1, 0, 0, 0, 1, 0, 1, 0, 1, 1, 1, 1, 1, 1, 0, 0, 0, 0, 0, 1,\n",
              "       0, 1, 0, 0, 0, 0, 0, 1, 1, 1, 1, 1, 1, 0, 1, 0, 1, 1, 1, 0, 1, 1,\n",
              "       1, 0, 1, 1, 1, 1, 0, 1, 1, 1, 1, 0, 1, 1, 1, 0, 0, 1, 1, 1, 1, 1,\n",
              "       0, 0, 0, 0, 0, 0, 0, 1, 0, 1, 0, 1, 1, 1, 0, 1, 0, 0, 0, 0, 1, 0,\n",
              "       1, 1, 1, 1, 1, 1, 0, 0, 0, 0, 1, 1, 0, 1, 0, 1, 1, 0, 1, 0, 1, 1,\n",
              "       1, 1, 0, 1, 1, 1, 1, 1, 0, 1, 0, 1, 0, 0, 0, 0, 0, 1, 1, 0, 0, 0,\n",
              "       0, 1, 0, 1, 1, 1, 1, 0, 1, 1, 0, 0, 0, 0, 1, 0, 1, 1, 0, 0, 1, 0,\n",
              "       0, 0, 1, 1, 1, 1, 0, 1, 1, 1, 1, 1, 1, 1, 0, 0, 0, 0, 0, 0, 0, 0,\n",
              "       0, 0])"
            ]
          },
          "metadata": {
            "tags": []
          },
          "execution_count": 116
        }
      ]
    },
    {
      "cell_type": "code",
      "metadata": {
        "id": "-JgeowickCNx"
      },
      "source": [
        "# to compare the pridictions to test_labels and evaluate the result we should you the confusion matrix.\n",
        "from sklearn.metrics import confusion_matrix\n",
        "import itertools"
      ],
      "execution_count": 94,
      "outputs": []
    },
    {
      "cell_type": "code",
      "metadata": {
        "id": "DkZMnbbym14d"
      },
      "source": [
        "cm=confusion_matrix(y_true=test_labels, y_pred=rounded_predictions)"
      ],
      "execution_count": 117,
      "outputs": []
    },
    {
      "cell_type": "code",
      "metadata": {
        "id": "TIAFxFRgn21x",
        "outputId": "61742a5b-fcea-4010-97e8-dba6ee601d2c",
        "colab": {
          "base_uri": "https://localhost:8080/",
          "height": 51
        }
      },
      "source": [
        "cm"
      ],
      "execution_count": 107,
      "outputs": [
        {
          "output_type": "execute_result",
          "data": {
            "text/plain": [
              "array([[198,  52],\n",
              "       [ 50, 200]])"
            ]
          },
          "metadata": {
            "tags": []
          },
          "execution_count": 107
        }
      ]
    },
    {
      "cell_type": "code",
      "metadata": {
        "id": "ssXn6eomnJKI"
      },
      "source": [
        "def plot_confusion_matrix(cm, classes, normalize=False, title='Confusion Matrix', cmap=plt.cm.Blues):\n",
        "  plt.imshow(cm, interpolation='nearest', cmap=plt.cm.Blues)\n",
        "  plt.title(title)\n",
        "  plt.colorbar()\n",
        "  tick_marks=np.arange(len(classes))\n",
        "  plt.xticks(tick_marks, classes, rotation=45)\n",
        "  plt.yticks(tick_marks, classes)\n",
        "  if normalize:\n",
        "    cm=cm.astype(float)/cm.sum(axis=1)[:np.newaxis]\n",
        "    print('normalized confusion matrix')\n",
        "  else:\n",
        "    print('confusion matrix, without normalization')\n",
        "  print(cm)\n",
        "\n",
        "  thresh=cm.max()/ 2\n",
        "  for i, j in itertools.product(range(cm.shape[0]), range(cm.shape[1])):\n",
        "    plt.text(i, j, cm[i, j], horizontalalignment='center', color='white' if cm[i, j]> thresh else 'black')\n",
        "    plt.tight_layout()\n",
        "    plt.ylabel('True Label')\n",
        "    plt.xlabel('Predicted Label')"
      ],
      "execution_count": 105,
      "outputs": []
    },
    {
      "cell_type": "code",
      "metadata": {
        "id": "FW2K8WQArifG",
        "outputId": "d4d49a3f-3fb3-4e7d-85e5-4dd056ea3a01",
        "colab": {
          "base_uri": "https://localhost:8080/",
          "height": 348
        }
      },
      "source": [
        "cm_plot_labels=['no side effects', 'had side effects']\n",
        "plot_confusion_matrix(cm=cm, classes=cm_plot_labels, title='Confusion Matrix')"
      ],
      "execution_count": 118,
      "outputs": [
        {
          "output_type": "stream",
          "text": [
            "confusion matrix, without normalization\n",
            "[[199  11]\n",
            " [ 10 200]]\n"
          ],
          "name": "stdout"
        },
        {
          "output_type": "display_data",
          "data": {
            "image/png": "[encoded data removed]",
            "text/plain": [
              "<Figure size 432x288 with 2 Axes>"
            ]
          },
          "metadata": {
            "tags": [],
            "needs_background": "light"
          }
        }
      ]
    }
  ]
}